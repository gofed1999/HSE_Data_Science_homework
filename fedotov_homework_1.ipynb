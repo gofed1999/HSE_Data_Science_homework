{
 "cells": [
  {
   "cell_type": "code",
   "execution_count": 2,
   "metadata": {},
   "outputs": [],
   "source": [
    "%matplotlib inline\n",
    "import numpy as np\n",
    "import pandas as pd\n",
    "import matplotlib.pyplot as plt\n",
    "import math"
   ]
  },
  {
   "cell_type": "markdown",
   "metadata": {},
   "source": [
    "# 1. Python"
   ]
  },
  {
   "cell_type": "markdown",
   "metadata": {},
   "source": [
    "**Task 1** (0.5 points)<br/> \n",
    "Enter numbers `a`,  `d` и `N`. Find sum of the first `N` members of arithmetic progression with the first member `a` and difference `d`, without using formula for the sum."
   ]
  },
  {
   "cell_type": "code",
   "execution_count": 4,
   "metadata": {},
   "outputs": [
    {
     "name": "stdout",
     "output_type": "stream",
     "text": [
      "1\n",
      "3\n",
      "5\n",
      "35\n"
     ]
    }
   ],
   "source": [
    "a = int(input())\n",
    "d = int(input())\n",
    "N = int(input())\n",
    "sum = 0\n",
    "\n",
    "for i in range(0, N):\n",
    "    sum = sum + a\n",
    "    a = a + d\n",
    "print(sum)"
   ]
  },
  {
   "cell_type": "markdown",
   "metadata": {},
   "source": [
    "**Task 2** (0.5 points) <br/> \n",
    "Enter a number `N`. Find sum of the first `N` memebers of harmonic series."
   ]
  },
  {
   "cell_type": "code",
   "execution_count": 5,
   "metadata": {},
   "outputs": [
    {
     "name": "stdout",
     "output_type": "stream",
     "text": [
      "4\n",
      "2.083333333333333\n"
     ]
    }
   ],
   "source": [
    "N = int(input())\n",
    "sum = 0\n",
    "\n",
    "for i in range(1, N+1):\n",
    "    sum = sum + 1 / i\n",
    "print(sum)"
   ]
  },
  {
   "cell_type": "markdown",
   "metadata": {},
   "source": [
    "**Task 3** (0.5 points) <br/> \n",
    "Enter an integer number `N`. Check if it is a prime number."
   ]
  },
  {
   "cell_type": "code",
   "execution_count": 13,
   "metadata": {},
   "outputs": [
    {
     "name": "stdout",
     "output_type": "stream",
     "text": [
      "17\n",
      "True\n"
     ]
    }
   ],
   "source": [
    "def check_prime(n):\n",
    "    for i in range(2, int(math.sqrt(n))+1):\n",
    "        if n % i == 0:\n",
    "            return False\n",
    "    return True\n",
    "\n",
    "\n",
    "N = int(input())\n",
    "print(check_prime(N))"
   ]
  },
  {
   "cell_type": "markdown",
   "metadata": {},
   "source": [
    "**Task 4** (0.5 points) <br/> \n",
    "Enter the first `N` prime numbers."
   ]
  },
  {
   "cell_type": "code",
   "execution_count": 8,
   "metadata": {},
   "outputs": [
    {
     "name": "stdout",
     "output_type": "stream",
     "text": [
      "20\n",
      "2\n",
      "3\n",
      "5\n",
      "7\n",
      "11\n",
      "13\n",
      "17\n",
      "19\n"
     ]
    }
   ],
   "source": [
    "N = int(input())\n",
    "\n",
    "for i in range(2, N+1):\n",
    "    if i > 1:\n",
    "        for j in range(2, i):\n",
    "            if i % j == 0:\n",
    "                break\n",
    "        else:\n",
    "            print(i)\n"
   ]
  },
  {
   "cell_type": "markdown",
   "metadata": {},
   "source": [
    "**Task 5** (0.5 points) <br/> \n",
    "There are numbers: `a`, `b`, `c`. Without using functions `min`, `max` and other functions, find the maximum number."
   ]
  },
  {
   "cell_type": "code",
   "execution_count": 10,
   "metadata": {},
   "outputs": [
    {
     "name": "stdout",
     "output_type": "stream",
     "text": [
      "1\n",
      "7\n",
      "4\n",
      "7\n"
     ]
    }
   ],
   "source": [
    "a = int(input())\n",
    "b = int(input())\n",
    "c = int(input())\n",
    "\n",
    "if a > b and a > c:\n",
    "    print(a)\n",
    "elif b > a and b > c:\n",
    "    print(b)\n",
    "elif c > a and c > b:\n",
    "    print(c)"
   ]
  },
  {
   "cell_type": "markdown",
   "metadata": {},
   "source": [
    "# 2. Numpy"
   ]
  },
  {
   "cell_type": "markdown",
   "metadata": {},
   "source": [
    "**Task 1** (0.5 points) <br/>\n",
    "Create two random arrays $a$ and $b$ with the same length. \n",
    "\n",
    "Calculate the following distances between the arrays:\n",
    "\n",
    "* Euclidean Distance\n",
    "$$ d(a, b) = \\sqrt{\\sum_i (a_i - b_i)^2} $$\n",
    "* Manhattan Distance\n",
    "$$ d(a, b) = \\sum_i |a_i - b_i| $$\n",
    "* Cosine Distance\n",
    "$$ d(a, b) = 1 - \\frac{a^\\top b}{||a||_2\\cdot||b||_2}$$\n"
   ]
  },
  {
   "cell_type": "code",
   "execution_count": null,
   "metadata": {},
   "outputs": [],
   "source": [
    "arr1 = np.random.rand(10)\n",
    "print(arr1)\n",
    "arr2 = np.random.rand(10)\n",
    "print(arr2)\n",
    "\n",
    "sum = 0\n",
    "for i in range(0, 10):\n",
    "    sum = sum + (arr1[i] - arr2[i]) ** 2\n",
    "euclidean_dist = math.sqrt(sum)\n",
    "print('Euclidean Distance: ', euclidean_dist)\n",
    "\n",
    "manhattan_dist = 0\n",
    "for i in range(0, 10):\n",
    "    manhattan_dist = manhattan_dist + abs(arr1[i] - arr2[i])\n",
    "print('Manhattan Distance: ', manhattan_dist)\n",
    "\n",
    "#Cosine Distance - ?"
   ]
  },
  {
   "cell_type": "markdown",
   "metadata": {},
   "source": [
    "**Task 2** (0.5 points) <br/>\n",
    "Create a random array (`np.random.rand()`) with length of 10 and with sum of its elements equals to 2."
   ]
  },
  {
   "cell_type": "code",
   "execution_count": null,
   "metadata": {},
   "outputs": [],
   "source": [
    "arr = np.random.rand(10)\n",
    "arr = arr / arr.sum() * 2\n",
    "print(arr)\n",
    "\n",
    "sum = 0\n",
    "for i in range(0, 10):\n",
    "    sum = sum + arr[i]\n",
    "print('Sum of arr elements equals: ', sum)"
   ]
  },
  {
   "cell_type": "markdown",
   "metadata": {},
   "source": [
    "**Task 3** (0.5 points) <br/>\n",
    "Create a random array (`np.random.rand()`) with length of 100. Transform the array so, that \n",
    "* Maximum element(s) value is 1\n",
    "* Minimum element(s) value is 0\n",
    "* Other values are in interval 0-1 with keeping the order"
   ]
  },
  {
   "cell_type": "code",
   "execution_count": 3,
   "metadata": {},
   "outputs": [
    {
     "name": "stdout",
     "output_type": "stream",
     "text": [
      "[0.85245124 0.33509736 0.04822648 0.85393711 0.92685859 0.58905624\n",
      " 0.23309229 0.80499718 0.50448001 0.48424036 0.96988259 0.70932984\n",
      " 0.47223647 0.82054707 0.00352321 0.7671601  0.93547234 0.86631125\n",
      " 0.69125651 0.71530629 0.10126913 0.5040106  0.19503508 0.85002792\n",
      " 0.54639348 0.08662732 0.68758944 0.50354606 0.01303921 0.2122112\n",
      " 0.74286969 0.49565444 0.00961195 0.97600022 0.13770728 0.59159732\n",
      " 0.06772656 0.43824951 0.61501147 0.23423291 0.91098118 0.06665103\n",
      " 0.47220007 0.52864094 0.63726853 0.85730404 0.59210096 0.93448004\n",
      " 0.62696834 0.68081172 0.89278971 0.24257036 0.46893815 0.83577655\n",
      " 0.9471588  0.94588491 0.80169103 0.50259483 0.3538237  0.53236823\n",
      " 0.87501128 0.47926441 0.18682347 0.27867174 0.83627411 0.90325926\n",
      " 0.95768994 0.06541733 0.1261005  0.17120541 0.2090243  0.85024187\n",
      " 0.96296267 0.72025944 0.64539448 0.58297109 0.93541878 0.36093616\n",
      " 0.7242926  0.72954965 0.4335918  0.13941351 0.66578948 0.03303347\n",
      " 0.26935202 0.84302442 0.36856869 0.01763317 0.09411278 0.06709127\n",
      " 0.22810538 0.54801882 0.19871481 0.44263983 0.60964785 0.57610019\n",
      " 0.62329994 0.30937755 0.70187788 0.94280931]\n"
     ]
    }
   ],
   "source": [
    "arr = np.random.rand(100)\n",
    "print(arr)\n",
    "\n",
    "# Так функция и так возвращает значения от 0 до 1"
   ]
  },
  {
   "cell_type": "markdown",
   "metadata": {},
   "source": [
    "**Task 4** (0.5 points) <br/>\n",
    "Create a random array with length of 20 with integers from [0,50]. Select elements that are smaller than 5th percentile and larger than 95th percentile"
   ]
  },
  {
   "cell_type": "code",
   "execution_count": null,
   "metadata": {},
   "outputs": [],
   "source": [
    "arr = np.random.randint(51, size = 20)\n",
    "print(arr)\n",
    "\n",
    "percentile = np.percentile(arr, 5)\n",
    "print('5th percentile is: ', percentile)\n",
    "for i in range(0, 20):\n",
    "    if arr[i] < percentile:\n",
    "        print(arr[i])\n",
    "        \n",
    "percentile = np.percentile(arr, 95)\n",
    "print('95th percentile is: ', percentile)\n",
    "for i in range(0, 20):\n",
    "    if arr[i] > percentile:\n",
    "        print(arr[i])"
   ]
  },
  {
   "cell_type": "markdown",
   "metadata": {},
   "source": [
    "**Task 5** (0.5 points) <br/>\n",
    "Create an array with shape of $5 \\times 6$ with integer from [0,50]. Print a column that contains the maximum element of the array."
   ]
  },
  {
   "cell_type": "code",
   "execution_count": 11,
   "metadata": {},
   "outputs": [
    {
     "name": "stdout",
     "output_type": "stream",
     "text": [
      "[[ 0  9 12 43 27 21]\n",
      " [ 7 46 18 44 35 22]\n",
      " [46  9 34  5 33  7]\n",
      " [43 23  5 47 41 47]\n",
      " [15 27 22 40  1 13]]\n",
      "Maximum element of the array:  47\n",
      "Column:  3\n",
      "Column:  5\n"
     ]
    }
   ],
   "source": [
    "arr = np.random.randint(0, 51, (5, 6))\n",
    "print(arr)\n",
    "print('Maximum element of the array: ', arr.max())\n",
    "for i in range(0, 5):\n",
    "    for j in range(0, 6):\n",
    "        if arr[i, j] == arr.max():\n",
    "            print('Column: ', j)"
   ]
  },
  {
   "cell_type": "markdown",
   "metadata": {},
   "source": [
    "**Task 6** (0.5 points) <br/>\n",
    "\n",
    "Replace all missing values in the following array with mean."
   ]
  },
  {
   "cell_type": "code",
   "execution_count": 24,
   "metadata": {},
   "outputs": [
    {
     "data": {
      "text/plain": [
       "array([0.06462344,        nan,        nan, 0.50471296, 0.18644893,\n",
       "       0.77996819, 0.84338688, 0.32531838,        nan,        nan])"
      ]
     },
     "execution_count": 24,
     "metadata": {},
     "output_type": "execute_result"
    }
   ],
   "source": [
    "arr = np.random.rand(10)\n",
    "idx = np.random.randint(0, 10, 4)\n",
    "arr[idx] = np.nan\n",
    "arr"
   ]
  },
  {
   "cell_type": "code",
   "execution_count": 28,
   "metadata": {},
   "outputs": [
    {
     "name": "stdout",
     "output_type": "stream",
     "text": [
      "0.4507431288066728\n"
     ]
    },
    {
     "data": {
      "text/plain": [
       "array([0.06462344, 0.45074313, 0.45074313, 0.50471296, 0.18644893,\n",
       "       0.77996819, 0.84338688, 0.32531838, 0.45074313, 0.45074313])"
      ]
     },
     "execution_count": 28,
     "metadata": {},
     "output_type": "execute_result"
    }
   ],
   "source": [
    "avg = arr[~np.isnan(arr)].mean()\n",
    "\n",
    "print(avg)\n",
    "for i in range (0, 4):\n",
    "    arr[idx[i]] = avg\n",
    "arr"
   ]
  },
  {
   "cell_type": "markdown",
   "metadata": {},
   "source": [
    "### Linear Regression"
   ]
  },
  {
   "cell_type": "markdown",
   "metadata": {},
   "source": [
    "Download [file 1](https://www.dropbox.com/s/kg9px9v3xfysak9/tutorial_dataset.csv?dl=0) and [file 2](https://www.dropbox.com/s/f87gm612o144emx/tutorial_dataset_2.csv?dl=0) into a directory with this notebook. Using function `loadtxt` in `numpy` load data from the first file. Assign y = D[:,0] аnd X = D[:, 1:].\n",
    "\n",
    "\n",
    "We will use one magic formula to find linear regression coefficients. You will prove this formula on your next lectures of the course.\n",
    "\n",
    "Linear regression model in matrix form looks like: $\\hat{y} = X\\hat{\\beta}$, where\n",
    "\n",
    "$$ \\hat{\\beta} = (X^\\top X)^{-1} X^\\top y $$\n",
    "Model residuals are calculated as\n",
    "$$ \\text{res} = y - \\hat{y} $$\n",
    "\n",
    "\n",
    "**Task 7** (2.5 points)<br/>\n",
    "1. Load the data\n",
    "2. Find parameters $\\hat{\\beta}$ using the formula above\n",
    "3. Make a plot with the model residuals on Y axis and $\\hat{y}$ on X axis"
   ]
  },
  {
   "cell_type": "code",
   "execution_count": 14,
   "metadata": {},
   "outputs": [],
   "source": [
    "## load data\n",
    "D = np.loadtxt('tutorial_dataset.csv', \n",
    "               skiprows=1, \n",
    "               delimiter=',')\n",
    "\n",
    "## Your code here"
   ]
  },
  {
   "cell_type": "markdown",
   "metadata": {},
   "source": [
    "# 3. Pandas"
   ]
  },
  {
   "cell_type": "markdown",
   "metadata": {},
   "source": [
    "### Wine Quality"
   ]
  },
  {
   "cell_type": "markdown",
   "metadata": {},
   "source": [
    "Download [sample](https://archive.ics.uci.edu/ml/machine-learning-databases/wine-quality/winequality-red.csv) with information about wine characteristics and its quality."
   ]
  },
  {
   "cell_type": "code",
   "execution_count": 15,
   "metadata": {},
   "outputs": [],
   "source": [
    "## Your code here"
   ]
  },
  {
   "cell_type": "markdown",
   "metadata": {},
   "source": [
    "**Task 1 ** (1 point) <br/>\n",
    "* How much objects are in the sample?\n",
    "* What features describe the objects? How much these features?\n",
    "* What is feature a target variable?\n",
    "* What are their ranges?\n",
    "* Are there any missing values?"
   ]
  },
  {
   "cell_type": "code",
   "execution_count": 16,
   "metadata": {},
   "outputs": [],
   "source": [
    "## Your code and answers here"
   ]
  },
  {
   "cell_type": "markdown",
   "metadata": {},
   "source": [
    "**Task 2** (1 point)<br/>\n",
    "What features affect the target variable the most?"
   ]
  },
  {
   "cell_type": "code",
   "execution_count": 17,
   "metadata": {},
   "outputs": [],
   "source": [
    "## Your code here"
   ]
  }
 ],
 "metadata": {
  "kernelspec": {
   "display_name": "Python 3",
   "language": "python",
   "name": "python3"
  },
  "language_info": {
   "codemirror_mode": {
    "name": "ipython",
    "version": 3
   },
   "file_extension": ".py",
   "mimetype": "text/x-python",
   "name": "python",
   "nbconvert_exporter": "python",
   "pygments_lexer": "ipython3",
   "version": "3.6.7"
  }
 },
 "nbformat": 4,
 "nbformat_minor": 2
}
